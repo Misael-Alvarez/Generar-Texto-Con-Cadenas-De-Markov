{
  "nbformat": 4,
  "nbformat_minor": 0,
  "metadata": {
    "colab": {
      "name": "Generar-Texto-Cadenas-Markovipynb",
      "provenance": [],
      "collapsed_sections": []
    },
    "kernelspec": {
      "name": "python3",
      "display_name": "Python 3"
    },
    "language_info": {
      "name": "python"
    }
  },
  "cells": [
    {
      "cell_type": "code",
      "metadata": {
        "id": "ugQ_58ZxduTs"
      },
      "source": [
        "import random\n",
        "\n",
        "class Markov(object):\n",
        "\t\n",
        "\tdef __init__(self, open_file):\n",
        "\t\tself.cache = {}\n",
        "\t\tself.open_file = open_file\n",
        "\t\tself.words = self.file_to_words()\n",
        "\t\tself.word_size = len(self.words)\n",
        "\t\tself.database()\n",
        "\t\t\n",
        "\t\n",
        "\tdef file_to_words(self):\n",
        "\t\tself.open_file.seek(0)\n",
        "\t\tdata = self.open_file.read()\n",
        "\t\twords = data.split()\n",
        "\t\treturn words\n",
        "\t\t\n",
        "\t\n",
        "\tdef triples(self):\t\n",
        "\t\tif len(self.words) < 3:\n",
        "\t\t\treturn\n",
        "\t\t\n",
        "\t\tfor i in range(len(self.words) - 2):\n",
        "\t\t\tyield (self.words[i], self.words[i+1], self.words[i+2])\n",
        "\t\t\t\n",
        "\tdef database(self):\n",
        "\t\tfor w1, w2, w3 in self.triples():\n",
        "\t\t\tkey = (w1, w2)\n",
        "\t\t\tif key in self.cache:\n",
        "\t\t\t\tself.cache[key].append(w3)\n",
        "\t\t\telse:\n",
        "\t\t\t\tself.cache[key] = [w3]\n",
        "\t\t\t\t\n",
        "\tdef generate_markov_text(self, size=25):\n",
        "\t\tseed = random.randint(0, self.word_size-3)\n",
        "\t\tseed_word, next_word = self.words[seed], self.words[seed+1]\n",
        "\t\tw1, w2 = seed_word, next_word\n",
        "\t\tgen_words = []\n",
        "\t\tfor i in range(size):\n",
        "\t\t\tgen_words.append(w1)\n",
        "\t\t\tw1, w2 = w2, random.choice(self.cache[(w1, w2)])\n",
        "\t\tgen_words.append(w2)\n",
        "\t\treturn ' '.join(gen_words)"
      ],
      "execution_count": null,
      "outputs": []
    },
    {
      "cell_type": "code",
      "metadata": {
        "id": "03uaRN3Pdu3I"
      },
      "source": [
        "file_ = open('el_quijote.txt') # Aqui va cualquier texto .txt para ejecutar el programa"
      ],
      "execution_count": null,
      "outputs": []
    },
    {
      "cell_type": "code",
      "metadata": {
        "id": "oCTZf1z4h7C8"
      },
      "source": [
        "markov = Markov(file_)"
      ],
      "execution_count": null,
      "outputs": []
    },
    {
      "cell_type": "code",
      "metadata": {
        "colab": {
          "base_uri": "https://localhost:8080/",
          "height": 35
        },
        "id": "7NMcZCNUi9VM",
        "outputId": "94abcbd1-6582-4cae-e792-de91e694f967"
      },
      "source": [
        "markov.generate_markov_text()"
      ],
      "execution_count": null,
      "outputs": [
        {
          "output_type": "execute_result",
          "data": {
            "application/vnd.google.colaboratory.intrinsic+json": {
              "type": "string"
            },
            "text/plain": [
              "'Marcela la lleva y la silla. Hablara yo para mañana, dijo Don Quijote, pensando en su punto las cosas. A lo cual le respondió: si caballero,'"
            ]
          },
          "metadata": {
            "tags": []
          },
          "execution_count": 12
        }
      ]
    },
    {
      "cell_type": "code",
      "metadata": {
        "id": "WBvUJiRTjEVq"
      },
      "source": [
        ""
      ],
      "execution_count": null,
      "outputs": []
    }
  ]
}